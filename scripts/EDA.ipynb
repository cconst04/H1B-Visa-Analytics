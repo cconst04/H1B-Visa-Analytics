{
 "cells": [
  {
   "cell_type": "code",
   "execution_count": 1,
   "id": "creative-eugene",
   "metadata": {},
   "outputs": [],
   "source": [
    "import os\n",
    "import sys\n",
    "home = os.path.abspath('..')\n",
    "os.chdir(home)\n",
    "sys.path.append(home)\n",
    "import pandas as pd_real\n",
    "import modin.pandas as pd\n",
    "import matplotlib.pyplot as plt\n",
    "import seaborn as sns\n",
    "import re\n",
    "from unidecode import unidecode\n"
   ]
  },
  {
   "cell_type": "code",
   "execution_count": 2,
   "id": "lasting-detector",
   "metadata": {},
   "outputs": [],
   "source": [
    "def get_bounds(x):\n",
    "    matches = re.findall(\"\\d+\",x)\n",
    "    matches = list(map(float,matches))\n",
    "        \n",
    "    if len(matches)==0:\n",
    "        matches = [float(\"-inf\"),float(\"inf\")]\n",
    "    \n",
    "    if len(matches)==1:\n",
    "        matches = matches+[float(\"inf\")]\n",
    "    \n",
    "    return matches\n",
    "\n",
    "def normalize_str_cols(df,include_cols = None, exclude_cols = None, casing = \"upper\"):\n",
    "    \n",
    "    df_2 = df.copy()\n",
    "    \n",
    "    if include_cols:\n",
    "        str_cols = include_cols\n",
    "    else:\n",
    "        str_cols = df_2.dtypes[df_2.dtypes == 'object'].index\n",
    "        \n",
    "        if exclude_cols:\n",
    "            str_cols =[i for i in str_cols if i not in exclude_cols]\n",
    "            \n",
    "\n",
    "    for c in str_cols:\n",
    "        \n",
    "        non_na_mask = ~df[c].isna()\n",
    "        \n",
    "        #Remove accents\n",
    "        df_2.loc[non_na_mask,c] = df_2.loc[non_na_mask,c].apply(unidecode)\n",
    "\n",
    "        #Convert columns to selected casing\n",
    "        df_2.loc[non_na_mask,c] = df_2.loc[non_na_mask,c].apply(lambda x: x.lower() if casing == \"lower\" else x.upper())\n",
    "\n",
    "        #Trim trailing and leading spaces\n",
    "        df_2.loc[non_na_mask,c] = df_2.loc[non_na_mask,c].apply(lambda x: x.strip())\n",
    "\n",
    "        \n",
    "        # remove leading and trailing punctuation\n",
    "        df_2.loc[non_na_mask,c] = df_2.loc[non_na_mask,c]\\\n",
    "            .apply(lambda x: x.strip('., '))\n",
    "        \n",
    "        \n",
    "        # remove alone , and .\n",
    "        df_2.loc[non_na_mask,c] = df_2.loc[non_na_mask,c]\\\n",
    "            .apply(lambda x: re.sub(\"( , )|( . )\",' ',x))\n",
    "        #remove multiple consecutive white spaces\n",
    "        df_2.loc[non_na_mask,c] = df_2.loc[non_na_mask,c]\\\n",
    "            .apply(lambda x: re.sub(\" +\",' ',x))\n",
    "\n",
    "    return df_2\n",
    "    "
   ]
  },
  {
   "cell_type": "code",
   "execution_count": 3,
   "id": "athletic-harvey",
   "metadata": {},
   "outputs": [
    {
     "name": "stderr",
     "output_type": "stream",
     "text": [
      "UserWarning: Parallel `read_excel` is a new feature! Please email bug_reports@modin.org if you run into any problems.\n"
     ]
    }
   ],
   "source": [
    "#Get data\n",
    "year = 2020\n",
    "df = pd.read_csv(f'data/processed/processed_{year}.csv')\n",
    "states = pd.read_csv(\"data/external/states.csv\")\n",
    "person_income = pd.read_csv(\"data/external/personal_income.csv\")\n",
    "soc_codes = pd.read_excel(\"data/external/soc_structure_2018.xlsx\")\n",
    "naics_sectors = pd.read_excel(\"data/raw/2017_NAICS_Descriptions.xlsx\")"
   ]
  },
  {
   "cell_type": "code",
   "execution_count": 4,
   "id": "ideal-provision",
   "metadata": {},
   "outputs": [
    {
     "name": "stderr",
     "output_type": "stream",
     "text": [
      "UserWarning: `Series.tolist` defaulting to pandas implementation.\n",
      "To request implementation, send an email to feature_requests@modin.org.\n",
      "UserWarning: Distributing <class 'list'> object. This may take some time.\n",
      "UserWarning: `DataFrame.setitem_without_string_columns` defaulting to pandas implementation.\n",
      "UserWarning: Distributing <class 'pandas.core.frame.DataFrame'> object. This may take some time.\n"
     ]
    }
   ],
   "source": [
    "#Clean person income\n",
    "person_income['group'] = person_income['group'].str.replace(',','').str.replace('$','')\n",
    "person_income['frequency'] = person_income['frequency'].str.replace(',','').str.replace('$','').astype(int)\n",
    "person_income[[\"lower_bound\",\n",
    "               \"upper_bound\"]] = pd.DataFrame(person_income['group']\\\n",
    "                                                            .apply(get_bounds)\\\n",
    "                                                            .to_list())"
   ]
  },
  {
   "cell_type": "code",
   "execution_count": 5,
   "id": "pretty-retail",
   "metadata": {},
   "outputs": [],
   "source": [
    "#Clean Soc Codes\n",
    "soc_codes.rename(columns={\"\":\"job_category\",\"Major Group\":\"SOC_CODE\"},inplace = True)\n",
    "soc_codes.dropna(subset=[\"SOC_CODE\"],inplace = True)\n",
    "soc_codes = soc_codes[[\"SOC_CODE\",\"job_category\"]]\n",
    "soc_codes[\"SOC_CODE\"] = soc_codes[\"SOC_CODE\"].apply(lambda x: x[0:2])"
   ]
  },
  {
   "cell_type": "code",
   "execution_count": 6,
   "id": "parental-valuable",
   "metadata": {},
   "outputs": [],
   "source": [
    "#Clean NAICS codes\n",
    "\n",
    "naics_sectors = naics_sectors[[\"Code\",\"Title\"]]\n",
    "naics_sectors[\"Code\"] = naics_sectors[\"Code\"].astype(str)\n",
    "mask = naics_sectors[\"Code\"].str.len()==4\n",
    "naics_sectors = naics_sectors[mask]\n",
    "naics_sectors[\"Title\"] = naics_sectors[\"Title\"].str.strip(' T')\n",
    "naics_sectors.rename(columns={\"Code\":\"industry_group\"},inplace = True)"
   ]
  },
  {
   "cell_type": "code",
   "execution_count": 7,
   "id": "dimensional-declaration",
   "metadata": {},
   "outputs": [],
   "source": [
    "#Normalize employer name\n",
    "df = normalize_str_cols(df,include_cols=[\"EMPLOYER_NAME\"])"
   ]
  },
  {
   "cell_type": "markdown",
   "id": "otherwise-somerset",
   "metadata": {},
   "source": [
    "Saving csv's"
   ]
  },
  {
   "cell_type": "code",
   "execution_count": 8,
   "id": "hydraulic-vampire",
   "metadata": {},
   "outputs": [
    {
     "name": "stderr",
     "output_type": "stream",
     "text": [
      "UserWarning: `DataFrame.to_csv` defaulting to pandas implementation.\n"
     ]
    }
   ],
   "source": [
    "person_income[1:].to_csv(\"data/processed/personal_income.csv\",index=False)  \n",
    "soc_codes.to_csv(\"data/processed/soc_codes.csv\",index=False)\n",
    "naics_sectors.to_csv(\"data/processed/naics_sectors.csv\",index=False)  \n",
    "df.to_csv(f'data/processed/processed_{year}.csv',index = False)"
   ]
  }
 ],
 "metadata": {
  "kernelspec": {
   "display_name": "Python 3.7.6 64-bit ('base': conda)",
   "language": "python",
   "name": "python37664bitbaseconda15aae41925a8475e86b7bea0cce036d9"
  },
  "language_info": {
   "codemirror_mode": {
    "name": "ipython",
    "version": 3
   },
   "file_extension": ".py",
   "mimetype": "text/x-python",
   "name": "python",
   "nbconvert_exporter": "python",
   "pygments_lexer": "ipython3",
   "version": "3.7.9"
  },
  "toc": {
   "base_numbering": 1,
   "nav_menu": {},
   "number_sections": true,
   "sideBar": true,
   "skip_h1_title": false,
   "title_cell": "Table of Contents",
   "title_sidebar": "Contents",
   "toc_cell": false,
   "toc_position": {},
   "toc_section_display": true,
   "toc_window_display": false
  }
 },
 "nbformat": 4,
 "nbformat_minor": 5
}
